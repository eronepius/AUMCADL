{
 "cells": [
  {
   "cell_type": "code",
   "execution_count": 1,
   "id": "c79eeae7-2b00-4766-b753-9e5f742e86c6",
   "metadata": {},
   "outputs": [],
   "source": [
    "import numpy as np\n",
    "import pandas as pd\n",
    "from sklearn.preprocessing import StandardScaler\n",
    "\n",
    "\n",
    "import tensorflow as tf\n",
    "from tensorflow import keras\n",
    "from keras.optimizers import Adam, SGD, Adagrad\n",
    "from tensorflow.keras import layers\n",
    "from tensorflow.keras import layers\n",
    "\n",
    "\n",
    "from sklearn.model_selection import train_test_split\n",
    "from imblearn.over_sampling import RandomOverSampler"
   ]
  },
  {
   "cell_type": "code",
   "execution_count": 2,
   "id": "4a8f26ec-37a3-4763-9884-7accbbf9aea3",
   "metadata": {},
   "outputs": [
    {
     "data": {
      "text/html": [
       "<div>\n",
       "<style scoped>\n",
       "    .dataframe tbody tr th:only-of-type {\n",
       "        vertical-align: middle;\n",
       "    }\n",
       "\n",
       "    .dataframe tbody tr th {\n",
       "        vertical-align: top;\n",
       "    }\n",
       "\n",
       "    .dataframe thead th {\n",
       "        text-align: right;\n",
       "    }\n",
       "</style>\n",
       "<table border=\"1\" class=\"dataframe\">\n",
       "  <thead>\n",
       "    <tr style=\"text-align: right;\">\n",
       "      <th></th>\n",
       "      <th>Pregnancies</th>\n",
       "      <th>Glucose</th>\n",
       "      <th>BloodPressure</th>\n",
       "      <th>SkinThickness</th>\n",
       "      <th>Insulin</th>\n",
       "      <th>BMI</th>\n",
       "      <th>DiabetesPedigreeFunction</th>\n",
       "      <th>Age</th>\n",
       "      <th>Outcome</th>\n",
       "    </tr>\n",
       "  </thead>\n",
       "  <tbody>\n",
       "    <tr>\n",
       "      <th>0</th>\n",
       "      <td>6</td>\n",
       "      <td>148</td>\n",
       "      <td>72</td>\n",
       "      <td>35</td>\n",
       "      <td>0</td>\n",
       "      <td>33.6</td>\n",
       "      <td>0.627</td>\n",
       "      <td>50</td>\n",
       "      <td>1</td>\n",
       "    </tr>\n",
       "    <tr>\n",
       "      <th>1</th>\n",
       "      <td>1</td>\n",
       "      <td>85</td>\n",
       "      <td>66</td>\n",
       "      <td>29</td>\n",
       "      <td>0</td>\n",
       "      <td>26.6</td>\n",
       "      <td>0.351</td>\n",
       "      <td>31</td>\n",
       "      <td>0</td>\n",
       "    </tr>\n",
       "    <tr>\n",
       "      <th>2</th>\n",
       "      <td>8</td>\n",
       "      <td>183</td>\n",
       "      <td>64</td>\n",
       "      <td>0</td>\n",
       "      <td>0</td>\n",
       "      <td>23.3</td>\n",
       "      <td>0.672</td>\n",
       "      <td>32</td>\n",
       "      <td>1</td>\n",
       "    </tr>\n",
       "    <tr>\n",
       "      <th>3</th>\n",
       "      <td>1</td>\n",
       "      <td>89</td>\n",
       "      <td>66</td>\n",
       "      <td>23</td>\n",
       "      <td>94</td>\n",
       "      <td>28.1</td>\n",
       "      <td>0.167</td>\n",
       "      <td>21</td>\n",
       "      <td>0</td>\n",
       "    </tr>\n",
       "    <tr>\n",
       "      <th>4</th>\n",
       "      <td>0</td>\n",
       "      <td>137</td>\n",
       "      <td>40</td>\n",
       "      <td>35</td>\n",
       "      <td>168</td>\n",
       "      <td>43.1</td>\n",
       "      <td>2.288</td>\n",
       "      <td>33</td>\n",
       "      <td>1</td>\n",
       "    </tr>\n",
       "  </tbody>\n",
       "</table>\n",
       "</div>"
      ],
      "text/plain": [
       "   Pregnancies  Glucose  BloodPressure  SkinThickness  Insulin   BMI  \\\n",
       "0            6      148             72             35        0  33.6   \n",
       "1            1       85             66             29        0  26.6   \n",
       "2            8      183             64              0        0  23.3   \n",
       "3            1       89             66             23       94  28.1   \n",
       "4            0      137             40             35      168  43.1   \n",
       "\n",
       "   DiabetesPedigreeFunction  Age  Outcome  \n",
       "0                     0.627   50        1  \n",
       "1                     0.351   31        0  \n",
       "2                     0.672   32        1  \n",
       "3                     0.167   21        0  \n",
       "4                     2.288   33        1  "
      ]
     },
     "execution_count": 2,
     "metadata": {},
     "output_type": "execute_result"
    }
   ],
   "source": [
    "df = pd.read_csv(\"./diabetes.csv\")\n",
    "df.head()"
   ]
  },
  {
   "cell_type": "code",
   "execution_count": 3,
   "id": "c45db9bb-d0df-40ee-b574-4d4b01cd459a",
   "metadata": {},
   "outputs": [
    {
     "data": {
      "text/plain": [
       "(768, 9)"
      ]
     },
     "execution_count": 3,
     "metadata": {},
     "output_type": "execute_result"
    }
   ],
   "source": [
    "df.shape"
   ]
  },
  {
   "cell_type": "code",
   "execution_count": 4,
   "id": "0d8d24af-6daf-46cc-b4a2-65dbda22779a",
   "metadata": {},
   "outputs": [
    {
     "name": "stdout",
     "output_type": "stream",
     "text": [
      "['Pregnancies', 'Glucose', 'BloodPressure', 'SkinThickness', 'Insulin', 'BMI', 'DiabetesPedigreeFunction', 'Age', 'Outcome']\n"
     ]
    }
   ],
   "source": [
    "cols = df.columns\n",
    "cols = list(cols)\n",
    "print(cols)"
   ]
  },
  {
   "cell_type": "code",
   "execution_count": 5,
   "id": "88e23bc8-1647-4b07-9da4-47d5bde5272c",
   "metadata": {},
   "outputs": [
    {
     "data": {
      "text/html": [
       "<div>\n",
       "<style scoped>\n",
       "    .dataframe tbody tr th:only-of-type {\n",
       "        vertical-align: middle;\n",
       "    }\n",
       "\n",
       "    .dataframe tbody tr th {\n",
       "        vertical-align: top;\n",
       "    }\n",
       "\n",
       "    .dataframe thead th {\n",
       "        text-align: right;\n",
       "    }\n",
       "</style>\n",
       "<table border=\"1\" class=\"dataframe\">\n",
       "  <thead>\n",
       "    <tr style=\"text-align: right;\">\n",
       "      <th></th>\n",
       "      <th>Pregnancies</th>\n",
       "      <th>Glucose</th>\n",
       "      <th>BloodPressure</th>\n",
       "      <th>SkinThickness</th>\n",
       "      <th>Insulin</th>\n",
       "      <th>BMI</th>\n",
       "      <th>DiabetesPedigreeFunction</th>\n",
       "      <th>Age</th>\n",
       "      <th>Outcome</th>\n",
       "    </tr>\n",
       "  </thead>\n",
       "  <tbody>\n",
       "    <tr>\n",
       "      <th>Pregnancies</th>\n",
       "      <td>1.000000</td>\n",
       "      <td>0.129459</td>\n",
       "      <td>0.141282</td>\n",
       "      <td>-0.081672</td>\n",
       "      <td>-0.073535</td>\n",
       "      <td>0.017683</td>\n",
       "      <td>-0.033523</td>\n",
       "      <td>0.544341</td>\n",
       "      <td>0.221898</td>\n",
       "    </tr>\n",
       "    <tr>\n",
       "      <th>Glucose</th>\n",
       "      <td>0.129459</td>\n",
       "      <td>1.000000</td>\n",
       "      <td>0.152590</td>\n",
       "      <td>0.057328</td>\n",
       "      <td>0.331357</td>\n",
       "      <td>0.221071</td>\n",
       "      <td>0.137337</td>\n",
       "      <td>0.263514</td>\n",
       "      <td>0.466581</td>\n",
       "    </tr>\n",
       "    <tr>\n",
       "      <th>BloodPressure</th>\n",
       "      <td>0.141282</td>\n",
       "      <td>0.152590</td>\n",
       "      <td>1.000000</td>\n",
       "      <td>0.207371</td>\n",
       "      <td>0.088933</td>\n",
       "      <td>0.281805</td>\n",
       "      <td>0.041265</td>\n",
       "      <td>0.239528</td>\n",
       "      <td>0.065068</td>\n",
       "    </tr>\n",
       "    <tr>\n",
       "      <th>SkinThickness</th>\n",
       "      <td>-0.081672</td>\n",
       "      <td>0.057328</td>\n",
       "      <td>0.207371</td>\n",
       "      <td>1.000000</td>\n",
       "      <td>0.436783</td>\n",
       "      <td>0.392573</td>\n",
       "      <td>0.183928</td>\n",
       "      <td>-0.113970</td>\n",
       "      <td>0.074752</td>\n",
       "    </tr>\n",
       "    <tr>\n",
       "      <th>Insulin</th>\n",
       "      <td>-0.073535</td>\n",
       "      <td>0.331357</td>\n",
       "      <td>0.088933</td>\n",
       "      <td>0.436783</td>\n",
       "      <td>1.000000</td>\n",
       "      <td>0.197859</td>\n",
       "      <td>0.185071</td>\n",
       "      <td>-0.042163</td>\n",
       "      <td>0.130548</td>\n",
       "    </tr>\n",
       "    <tr>\n",
       "      <th>BMI</th>\n",
       "      <td>0.017683</td>\n",
       "      <td>0.221071</td>\n",
       "      <td>0.281805</td>\n",
       "      <td>0.392573</td>\n",
       "      <td>0.197859</td>\n",
       "      <td>1.000000</td>\n",
       "      <td>0.140647</td>\n",
       "      <td>0.036242</td>\n",
       "      <td>0.292695</td>\n",
       "    </tr>\n",
       "    <tr>\n",
       "      <th>DiabetesPedigreeFunction</th>\n",
       "      <td>-0.033523</td>\n",
       "      <td>0.137337</td>\n",
       "      <td>0.041265</td>\n",
       "      <td>0.183928</td>\n",
       "      <td>0.185071</td>\n",
       "      <td>0.140647</td>\n",
       "      <td>1.000000</td>\n",
       "      <td>0.033561</td>\n",
       "      <td>0.173844</td>\n",
       "    </tr>\n",
       "    <tr>\n",
       "      <th>Age</th>\n",
       "      <td>0.544341</td>\n",
       "      <td>0.263514</td>\n",
       "      <td>0.239528</td>\n",
       "      <td>-0.113970</td>\n",
       "      <td>-0.042163</td>\n",
       "      <td>0.036242</td>\n",
       "      <td>0.033561</td>\n",
       "      <td>1.000000</td>\n",
       "      <td>0.238356</td>\n",
       "    </tr>\n",
       "    <tr>\n",
       "      <th>Outcome</th>\n",
       "      <td>0.221898</td>\n",
       "      <td>0.466581</td>\n",
       "      <td>0.065068</td>\n",
       "      <td>0.074752</td>\n",
       "      <td>0.130548</td>\n",
       "      <td>0.292695</td>\n",
       "      <td>0.173844</td>\n",
       "      <td>0.238356</td>\n",
       "      <td>1.000000</td>\n",
       "    </tr>\n",
       "  </tbody>\n",
       "</table>\n",
       "</div>"
      ],
      "text/plain": [
       "                          Pregnancies   Glucose  BloodPressure  SkinThickness  \\\n",
       "Pregnancies                  1.000000  0.129459       0.141282      -0.081672   \n",
       "Glucose                      0.129459  1.000000       0.152590       0.057328   \n",
       "BloodPressure                0.141282  0.152590       1.000000       0.207371   \n",
       "SkinThickness               -0.081672  0.057328       0.207371       1.000000   \n",
       "Insulin                     -0.073535  0.331357       0.088933       0.436783   \n",
       "BMI                          0.017683  0.221071       0.281805       0.392573   \n",
       "DiabetesPedigreeFunction    -0.033523  0.137337       0.041265       0.183928   \n",
       "Age                          0.544341  0.263514       0.239528      -0.113970   \n",
       "Outcome                      0.221898  0.466581       0.065068       0.074752   \n",
       "\n",
       "                           Insulin       BMI  DiabetesPedigreeFunction  \\\n",
       "Pregnancies              -0.073535  0.017683                 -0.033523   \n",
       "Glucose                   0.331357  0.221071                  0.137337   \n",
       "BloodPressure             0.088933  0.281805                  0.041265   \n",
       "SkinThickness             0.436783  0.392573                  0.183928   \n",
       "Insulin                   1.000000  0.197859                  0.185071   \n",
       "BMI                       0.197859  1.000000                  0.140647   \n",
       "DiabetesPedigreeFunction  0.185071  0.140647                  1.000000   \n",
       "Age                      -0.042163  0.036242                  0.033561   \n",
       "Outcome                   0.130548  0.292695                  0.173844   \n",
       "\n",
       "                               Age   Outcome  \n",
       "Pregnancies               0.544341  0.221898  \n",
       "Glucose                   0.263514  0.466581  \n",
       "BloodPressure             0.239528  0.065068  \n",
       "SkinThickness            -0.113970  0.074752  \n",
       "Insulin                  -0.042163  0.130548  \n",
       "BMI                       0.036242  0.292695  \n",
       "DiabetesPedigreeFunction  0.033561  0.173844  \n",
       "Age                       1.000000  0.238356  \n",
       "Outcome                   0.238356  1.000000  "
      ]
     },
     "execution_count": 5,
     "metadata": {},
     "output_type": "execute_result"
    }
   ],
   "source": [
    "df.corr()"
   ]
  },
  {
   "cell_type": "code",
   "execution_count": 6,
   "id": "8dcd6c4c-c86c-4c64-bec4-5b85e2346722",
   "metadata": {},
   "outputs": [],
   "source": [
    "X = df[['Pregnancies','Glucose','BMI','Age']]"
   ]
  },
  {
   "cell_type": "code",
   "execution_count": 7,
   "id": "19ef25e7-a187-4d94-842b-d75211839b2c",
   "metadata": {},
   "outputs": [
    {
     "data": {
      "text/html": [
       "<div>\n",
       "<style scoped>\n",
       "    .dataframe tbody tr th:only-of-type {\n",
       "        vertical-align: middle;\n",
       "    }\n",
       "\n",
       "    .dataframe tbody tr th {\n",
       "        vertical-align: top;\n",
       "    }\n",
       "\n",
       "    .dataframe thead th {\n",
       "        text-align: right;\n",
       "    }\n",
       "</style>\n",
       "<table border=\"1\" class=\"dataframe\">\n",
       "  <thead>\n",
       "    <tr style=\"text-align: right;\">\n",
       "      <th></th>\n",
       "      <th>Pregnancies</th>\n",
       "      <th>Glucose</th>\n",
       "      <th>BMI</th>\n",
       "      <th>Age</th>\n",
       "    </tr>\n",
       "  </thead>\n",
       "  <tbody>\n",
       "    <tr>\n",
       "      <th>0</th>\n",
       "      <td>6</td>\n",
       "      <td>148</td>\n",
       "      <td>33.6</td>\n",
       "      <td>50</td>\n",
       "    </tr>\n",
       "    <tr>\n",
       "      <th>1</th>\n",
       "      <td>1</td>\n",
       "      <td>85</td>\n",
       "      <td>26.6</td>\n",
       "      <td>31</td>\n",
       "    </tr>\n",
       "    <tr>\n",
       "      <th>2</th>\n",
       "      <td>8</td>\n",
       "      <td>183</td>\n",
       "      <td>23.3</td>\n",
       "      <td>32</td>\n",
       "    </tr>\n",
       "    <tr>\n",
       "      <th>3</th>\n",
       "      <td>1</td>\n",
       "      <td>89</td>\n",
       "      <td>28.1</td>\n",
       "      <td>21</td>\n",
       "    </tr>\n",
       "    <tr>\n",
       "      <th>4</th>\n",
       "      <td>0</td>\n",
       "      <td>137</td>\n",
       "      <td>43.1</td>\n",
       "      <td>33</td>\n",
       "    </tr>\n",
       "  </tbody>\n",
       "</table>\n",
       "</div>"
      ],
      "text/plain": [
       "   Pregnancies  Glucose   BMI  Age\n",
       "0            6      148  33.6   50\n",
       "1            1       85  26.6   31\n",
       "2            8      183  23.3   32\n",
       "3            1       89  28.1   21\n",
       "4            0      137  43.1   33"
      ]
     },
     "execution_count": 7,
     "metadata": {},
     "output_type": "execute_result"
    }
   ],
   "source": [
    "X.head()"
   ]
  },
  {
   "cell_type": "code",
   "execution_count": 8,
   "id": "ab2f8cf9-4c8d-4390-b29b-2cccf72eef49",
   "metadata": {},
   "outputs": [
    {
     "data": {
      "text/plain": [
       "0    1\n",
       "1    0\n",
       "2    1\n",
       "3    0\n",
       "4    1\n",
       "Name: Outcome, dtype: int64"
      ]
     },
     "execution_count": 8,
     "metadata": {},
     "output_type": "execute_result"
    }
   ],
   "source": [
    "y = df['Outcome']\n",
    "y.head()"
   ]
  },
  {
   "cell_type": "code",
   "execution_count": 9,
   "id": "22b2c3a5-e2b1-49c3-97f5-13694c9d8359",
   "metadata": {},
   "outputs": [],
   "source": [
    "X_train, X_test, y_train, y_test = train_test_split(X, y, test_size=0.30, random_state=42)"
   ]
  },
  {
   "cell_type": "code",
   "execution_count": 10,
   "id": "1258c00c-2193-41ee-819b-04f9e7460e1a",
   "metadata": {},
   "outputs": [],
   "source": [
    "sm = RandomOverSampler(sampling_strategy='minority', random_state=42)\n",
    "X_train, y_train = sm.fit_resample(X_train, y_train)"
   ]
  },
  {
   "cell_type": "code",
   "execution_count": 11,
   "id": "cf514acb-26ea-40a1-b4c3-ee4e6c052925",
   "metadata": {},
   "outputs": [
    {
     "data": {
      "text/plain": [
       "(698, 4)"
      ]
     },
     "execution_count": 11,
     "metadata": {},
     "output_type": "execute_result"
    }
   ],
   "source": [
    "X_train.shape"
   ]
  },
  {
   "cell_type": "code",
   "execution_count": 12,
   "id": "45466346-a675-4084-9c88-37cbfabef6f3",
   "metadata": {},
   "outputs": [],
   "source": [
    "scaler = StandardScaler()"
   ]
  },
  {
   "cell_type": "code",
   "execution_count": 13,
   "id": "b1493077-33ff-4212-9824-e42178bcf433",
   "metadata": {},
   "outputs": [],
   "source": [
    "X_train = scaler.fit_transform(X_train)\n",
    "X_test = scaler.transform(X_test)"
   ]
  },
  {
   "cell_type": "code",
   "execution_count": 14,
   "id": "7f0be3da-a033-4a20-847a-bf9d59f432d7",
   "metadata": {},
   "outputs": [
    {
     "data": {
      "text/plain": [
       "array([ 0.66916602, -0.83186589,  0.1290672 ,  0.81154032])"
      ]
     },
     "execution_count": 14,
     "metadata": {},
     "output_type": "execute_result"
    }
   ],
   "source": [
    "X_test[0]"
   ]
  },
  {
   "cell_type": "code",
   "execution_count": 15,
   "id": "f3b004be-f1f5-4ccf-b38b-166a6c329c38",
   "metadata": {},
   "outputs": [],
   "source": [
    "model = keras.Sequential()\n",
    "model.add(layers.Dense(1000, input_shape=(4,), kernel_initializer='uniform', activation='tanh'))\n",
    "model.add(layers.Dense(300, kernel_initializer='uniform', activation='relu'))\n",
    "model.add(layers.Dense(100, kernel_initializer='uniform', activation='tanh'))\n",
    "model.add(layers.Dense(1, kernel_initializer='uniform', activation='sigmoid'))\n"
   ]
  },
  {
   "cell_type": "code",
   "execution_count": 16,
   "id": "8f0cae00-061b-4084-92ae-49aae7202b7e",
   "metadata": {},
   "outputs": [
    {
     "name": "stdout",
     "output_type": "stream",
     "text": [
      "Model: \"sequential\"\n",
      "_________________________________________________________________\n",
      " Layer (type)                Output Shape              Param #   \n",
      "=================================================================\n",
      " dense (Dense)               (None, 1000)              5000      \n",
      "                                                                 \n",
      " dense_1 (Dense)             (None, 300)               300300    \n",
      "                                                                 \n",
      " dense_2 (Dense)             (None, 100)               30100     \n",
      "                                                                 \n",
      " dense_3 (Dense)             (None, 1)                 101       \n",
      "                                                                 \n",
      "=================================================================\n",
      "Total params: 335,501\n",
      "Trainable params: 335,501\n",
      "Non-trainable params: 0\n",
      "_________________________________________________________________\n"
     ]
    }
   ],
   "source": [
    "model.summary()"
   ]
  },
  {
   "cell_type": "code",
   "execution_count": 17,
   "id": "31bd8c2e-c9e7-410b-b49e-840c5d800691",
   "metadata": {},
   "outputs": [],
   "source": [
    "model.compile(loss='binary_crossentropy', optimizer='adam', metrics=['accuracy'])"
   ]
  },
  {
   "cell_type": "code",
   "execution_count": 18,
   "id": "b92a3d24-3ad5-4ab2-b99d-c6612a060409",
   "metadata": {},
   "outputs": [
    {
     "name": "stdout",
     "output_type": "stream",
     "text": [
      "Epoch 1/75\n",
      "44/44 - 1s - loss: 0.5195 - accuracy: 0.7450 - val_loss: 0.6466 - val_accuracy: 0.6883 - 665ms/epoch - 15ms/step\n",
      "Epoch 2/75\n",
      "44/44 - 0s - loss: 0.4780 - accuracy: 0.7693 - val_loss: 0.5648 - val_accuracy: 0.7100 - 153ms/epoch - 3ms/step\n",
      "Epoch 3/75\n",
      "44/44 - 0s - loss: 0.4835 - accuracy: 0.7722 - val_loss: 0.6197 - val_accuracy: 0.6926 - 149ms/epoch - 3ms/step\n",
      "Epoch 4/75\n",
      "44/44 - 0s - loss: 0.4685 - accuracy: 0.7779 - val_loss: 0.5664 - val_accuracy: 0.7186 - 149ms/epoch - 3ms/step\n",
      "Epoch 5/75\n",
      "44/44 - 0s - loss: 0.4649 - accuracy: 0.7708 - val_loss: 0.6153 - val_accuracy: 0.7056 - 148ms/epoch - 3ms/step\n",
      "Epoch 6/75\n",
      "44/44 - 0s - loss: 0.4632 - accuracy: 0.7765 - val_loss: 0.5761 - val_accuracy: 0.6970 - 148ms/epoch - 3ms/step\n",
      "Epoch 7/75\n",
      "44/44 - 0s - loss: 0.4628 - accuracy: 0.7765 - val_loss: 0.5797 - val_accuracy: 0.7013 - 148ms/epoch - 3ms/step\n",
      "Epoch 8/75\n",
      "44/44 - 0s - loss: 0.4562 - accuracy: 0.7779 - val_loss: 0.5553 - val_accuracy: 0.7316 - 148ms/epoch - 3ms/step\n",
      "Epoch 9/75\n",
      "44/44 - 0s - loss: 0.4591 - accuracy: 0.7808 - val_loss: 0.5849 - val_accuracy: 0.7273 - 151ms/epoch - 3ms/step\n",
      "Epoch 10/75\n",
      "44/44 - 0s - loss: 0.4644 - accuracy: 0.7779 - val_loss: 0.6001 - val_accuracy: 0.7186 - 151ms/epoch - 3ms/step\n",
      "Epoch 11/75\n",
      "44/44 - 0s - loss: 0.4512 - accuracy: 0.7779 - val_loss: 0.6223 - val_accuracy: 0.6753 - 149ms/epoch - 3ms/step\n",
      "Epoch 12/75\n",
      "44/44 - 0s - loss: 0.4542 - accuracy: 0.7794 - val_loss: 0.5693 - val_accuracy: 0.7229 - 149ms/epoch - 3ms/step\n",
      "Epoch 13/75\n",
      "44/44 - 0s - loss: 0.4441 - accuracy: 0.7650 - val_loss: 0.5851 - val_accuracy: 0.7359 - 149ms/epoch - 3ms/step\n",
      "Epoch 14/75\n",
      "44/44 - 0s - loss: 0.4449 - accuracy: 0.7937 - val_loss: 0.6027 - val_accuracy: 0.7186 - 148ms/epoch - 3ms/step\n",
      "Epoch 15/75\n",
      "44/44 - 0s - loss: 0.4411 - accuracy: 0.7880 - val_loss: 0.5396 - val_accuracy: 0.7359 - 148ms/epoch - 3ms/step\n",
      "Epoch 16/75\n",
      "44/44 - 0s - loss: 0.4389 - accuracy: 0.7865 - val_loss: 0.6016 - val_accuracy: 0.7229 - 148ms/epoch - 3ms/step\n",
      "Epoch 17/75\n",
      "44/44 - 0s - loss: 0.4315 - accuracy: 0.7865 - val_loss: 0.6489 - val_accuracy: 0.7056 - 149ms/epoch - 3ms/step\n",
      "Epoch 18/75\n",
      "44/44 - 0s - loss: 0.4415 - accuracy: 0.7908 - val_loss: 0.6042 - val_accuracy: 0.6797 - 150ms/epoch - 3ms/step\n",
      "Epoch 19/75\n",
      "44/44 - 0s - loss: 0.4362 - accuracy: 0.7894 - val_loss: 0.5555 - val_accuracy: 0.7359 - 149ms/epoch - 3ms/step\n",
      "Epoch 20/75\n",
      "44/44 - 0s - loss: 0.4239 - accuracy: 0.7894 - val_loss: 0.5678 - val_accuracy: 0.7316 - 145ms/epoch - 3ms/step\n",
      "Epoch 21/75\n",
      "44/44 - 0s - loss: 0.4300 - accuracy: 0.8080 - val_loss: 0.5617 - val_accuracy: 0.7186 - 148ms/epoch - 3ms/step\n",
      "Epoch 22/75\n",
      "44/44 - 0s - loss: 0.4268 - accuracy: 0.7994 - val_loss: 0.5738 - val_accuracy: 0.7316 - 151ms/epoch - 3ms/step\n",
      "Epoch 23/75\n",
      "44/44 - 0s - loss: 0.4191 - accuracy: 0.8052 - val_loss: 0.6037 - val_accuracy: 0.7186 - 147ms/epoch - 3ms/step\n",
      "Epoch 24/75\n",
      "44/44 - 0s - loss: 0.4178 - accuracy: 0.8052 - val_loss: 0.6063 - val_accuracy: 0.7186 - 147ms/epoch - 3ms/step\n",
      "Epoch 25/75\n",
      "44/44 - 0s - loss: 0.4200 - accuracy: 0.8066 - val_loss: 0.5842 - val_accuracy: 0.7186 - 147ms/epoch - 3ms/step\n",
      "Epoch 26/75\n",
      "44/44 - 0s - loss: 0.4197 - accuracy: 0.8123 - val_loss: 0.5960 - val_accuracy: 0.7229 - 148ms/epoch - 3ms/step\n",
      "Epoch 27/75\n",
      "44/44 - 0s - loss: 0.4228 - accuracy: 0.8109 - val_loss: 0.6576 - val_accuracy: 0.7229 - 151ms/epoch - 3ms/step\n",
      "Epoch 28/75\n",
      "44/44 - 0s - loss: 0.4097 - accuracy: 0.8223 - val_loss: 0.5977 - val_accuracy: 0.7056 - 148ms/epoch - 3ms/step\n",
      "Epoch 29/75\n",
      "44/44 - 0s - loss: 0.4060 - accuracy: 0.8123 - val_loss: 0.5705 - val_accuracy: 0.7403 - 152ms/epoch - 3ms/step\n",
      "Epoch 30/75\n",
      "44/44 - 0s - loss: 0.4190 - accuracy: 0.8052 - val_loss: 0.5759 - val_accuracy: 0.7056 - 149ms/epoch - 3ms/step\n",
      "Epoch 31/75\n",
      "44/44 - 0s - loss: 0.3998 - accuracy: 0.8138 - val_loss: 0.5919 - val_accuracy: 0.7229 - 149ms/epoch - 3ms/step\n",
      "Epoch 32/75\n",
      "44/44 - 0s - loss: 0.4079 - accuracy: 0.8052 - val_loss: 0.6275 - val_accuracy: 0.6710 - 149ms/epoch - 3ms/step\n",
      "Epoch 33/75\n",
      "44/44 - 0s - loss: 0.4187 - accuracy: 0.8138 - val_loss: 0.6028 - val_accuracy: 0.6883 - 150ms/epoch - 3ms/step\n",
      "Epoch 34/75\n",
      "44/44 - 0s - loss: 0.4073 - accuracy: 0.8223 - val_loss: 0.5795 - val_accuracy: 0.7143 - 149ms/epoch - 3ms/step\n",
      "Epoch 35/75\n",
      "44/44 - 0s - loss: 0.3943 - accuracy: 0.8223 - val_loss: 0.5629 - val_accuracy: 0.7186 - 147ms/epoch - 3ms/step\n",
      "Epoch 36/75\n",
      "44/44 - 0s - loss: 0.3976 - accuracy: 0.8223 - val_loss: 0.5595 - val_accuracy: 0.7446 - 149ms/epoch - 3ms/step\n",
      "Epoch 37/75\n",
      "44/44 - 0s - loss: 0.3855 - accuracy: 0.8238 - val_loss: 0.5636 - val_accuracy: 0.7316 - 150ms/epoch - 3ms/step\n",
      "Epoch 38/75\n",
      "44/44 - 0s - loss: 0.3951 - accuracy: 0.8281 - val_loss: 0.6013 - val_accuracy: 0.7186 - 149ms/epoch - 3ms/step\n",
      "Epoch 39/75\n",
      "44/44 - 0s - loss: 0.3840 - accuracy: 0.8181 - val_loss: 0.5795 - val_accuracy: 0.7229 - 147ms/epoch - 3ms/step\n",
      "Epoch 40/75\n",
      "44/44 - 0s - loss: 0.3722 - accuracy: 0.8309 - val_loss: 0.5866 - val_accuracy: 0.7446 - 153ms/epoch - 3ms/step\n",
      "Epoch 41/75\n",
      "44/44 - 0s - loss: 0.3735 - accuracy: 0.8453 - val_loss: 0.6384 - val_accuracy: 0.7532 - 145ms/epoch - 3ms/step\n",
      "Epoch 42/75\n",
      "44/44 - 0s - loss: 0.3814 - accuracy: 0.8238 - val_loss: 0.5818 - val_accuracy: 0.7403 - 148ms/epoch - 3ms/step\n",
      "Epoch 43/75\n",
      "44/44 - 0s - loss: 0.3674 - accuracy: 0.8352 - val_loss: 0.6044 - val_accuracy: 0.7273 - 151ms/epoch - 3ms/step\n",
      "Epoch 44/75\n",
      "44/44 - 0s - loss: 0.3609 - accuracy: 0.8467 - val_loss: 0.5843 - val_accuracy: 0.7316 - 149ms/epoch - 3ms/step\n",
      "Epoch 45/75\n",
      "44/44 - 0s - loss: 0.3627 - accuracy: 0.8424 - val_loss: 0.5739 - val_accuracy: 0.7273 - 150ms/epoch - 3ms/step\n",
      "Epoch 46/75\n",
      "44/44 - 0s - loss: 0.3594 - accuracy: 0.8467 - val_loss: 0.5948 - val_accuracy: 0.7229 - 148ms/epoch - 3ms/step\n",
      "Epoch 47/75\n",
      "44/44 - 0s - loss: 0.3447 - accuracy: 0.8524 - val_loss: 0.5931 - val_accuracy: 0.7316 - 149ms/epoch - 3ms/step\n",
      "Epoch 48/75\n",
      "44/44 - 0s - loss: 0.3413 - accuracy: 0.8582 - val_loss: 0.5933 - val_accuracy: 0.7359 - 149ms/epoch - 3ms/step\n",
      "Epoch 49/75\n",
      "44/44 - 0s - loss: 0.3355 - accuracy: 0.8582 - val_loss: 0.5981 - val_accuracy: 0.7489 - 151ms/epoch - 3ms/step\n",
      "Epoch 50/75\n",
      "44/44 - 0s - loss: 0.3456 - accuracy: 0.8481 - val_loss: 0.6185 - val_accuracy: 0.7316 - 147ms/epoch - 3ms/step\n",
      "Epoch 51/75\n",
      "44/44 - 0s - loss: 0.3276 - accuracy: 0.8711 - val_loss: 0.5921 - val_accuracy: 0.7273 - 148ms/epoch - 3ms/step\n",
      "Epoch 52/75\n",
      "44/44 - 0s - loss: 0.3193 - accuracy: 0.8682 - val_loss: 0.6271 - val_accuracy: 0.7316 - 149ms/epoch - 3ms/step\n",
      "Epoch 53/75\n",
      "44/44 - 0s - loss: 0.3163 - accuracy: 0.8711 - val_loss: 0.6056 - val_accuracy: 0.7273 - 147ms/epoch - 3ms/step\n",
      "Epoch 54/75\n",
      "44/44 - 0s - loss: 0.3082 - accuracy: 0.8768 - val_loss: 0.5971 - val_accuracy: 0.7273 - 148ms/epoch - 3ms/step\n",
      "Epoch 55/75\n",
      "44/44 - 0s - loss: 0.2945 - accuracy: 0.8797 - val_loss: 0.6327 - val_accuracy: 0.7532 - 151ms/epoch - 3ms/step\n",
      "Epoch 56/75\n",
      "44/44 - 0s - loss: 0.3167 - accuracy: 0.8725 - val_loss: 0.6470 - val_accuracy: 0.7229 - 151ms/epoch - 3ms/step\n",
      "Epoch 57/75\n",
      "44/44 - 0s - loss: 0.3002 - accuracy: 0.8782 - val_loss: 0.6548 - val_accuracy: 0.7186 - 151ms/epoch - 3ms/step\n",
      "Epoch 58/75\n",
      "44/44 - 0s - loss: 0.2773 - accuracy: 0.8940 - val_loss: 0.6111 - val_accuracy: 0.6970 - 149ms/epoch - 3ms/step\n",
      "Epoch 59/75\n",
      "44/44 - 0s - loss: 0.2846 - accuracy: 0.8854 - val_loss: 0.6632 - val_accuracy: 0.7316 - 150ms/epoch - 3ms/step\n",
      "Epoch 60/75\n",
      "44/44 - 0s - loss: 0.2681 - accuracy: 0.9026 - val_loss: 0.6387 - val_accuracy: 0.7403 - 168ms/epoch - 4ms/step\n",
      "Epoch 61/75\n",
      "44/44 - 0s - loss: 0.2654 - accuracy: 0.8926 - val_loss: 0.6464 - val_accuracy: 0.7359 - 152ms/epoch - 3ms/step\n",
      "Epoch 62/75\n",
      "44/44 - 0s - loss: 0.2491 - accuracy: 0.9026 - val_loss: 0.6614 - val_accuracy: 0.7273 - 153ms/epoch - 3ms/step\n",
      "Epoch 63/75\n",
      "44/44 - 0s - loss: 0.2376 - accuracy: 0.9069 - val_loss: 0.6768 - val_accuracy: 0.7489 - 151ms/epoch - 3ms/step\n",
      "Epoch 64/75\n",
      "44/44 - 0s - loss: 0.2655 - accuracy: 0.8911 - val_loss: 0.6639 - val_accuracy: 0.7229 - 148ms/epoch - 3ms/step\n",
      "Epoch 65/75\n",
      "44/44 - 0s - loss: 0.2566 - accuracy: 0.9040 - val_loss: 0.6999 - val_accuracy: 0.7143 - 150ms/epoch - 3ms/step\n",
      "Epoch 66/75\n",
      "44/44 - 0s - loss: 0.2392 - accuracy: 0.9097 - val_loss: 0.6529 - val_accuracy: 0.7316 - 149ms/epoch - 3ms/step\n",
      "Epoch 67/75\n",
      "44/44 - 0s - loss: 0.2336 - accuracy: 0.9097 - val_loss: 0.6907 - val_accuracy: 0.7186 - 151ms/epoch - 3ms/step\n",
      "Epoch 68/75\n",
      "44/44 - 0s - loss: 0.2293 - accuracy: 0.9040 - val_loss: 0.6269 - val_accuracy: 0.7749 - 154ms/epoch - 3ms/step\n",
      "Epoch 69/75\n",
      "44/44 - 0s - loss: 0.2152 - accuracy: 0.9198 - val_loss: 0.7028 - val_accuracy: 0.7316 - 152ms/epoch - 3ms/step\n",
      "Epoch 70/75\n",
      "44/44 - 0s - loss: 0.2135 - accuracy: 0.9241 - val_loss: 0.6906 - val_accuracy: 0.7446 - 151ms/epoch - 3ms/step\n",
      "Epoch 71/75\n",
      "44/44 - 0s - loss: 0.2010 - accuracy: 0.9255 - val_loss: 0.7406 - val_accuracy: 0.7273 - 152ms/epoch - 3ms/step\n",
      "Epoch 72/75\n",
      "44/44 - 0s - loss: 0.2029 - accuracy: 0.9269 - val_loss: 0.6826 - val_accuracy: 0.7403 - 150ms/epoch - 3ms/step\n",
      "Epoch 73/75\n",
      "44/44 - 0s - loss: 0.1951 - accuracy: 0.9198 - val_loss: 0.7354 - val_accuracy: 0.7273 - 151ms/epoch - 3ms/step\n",
      "Epoch 74/75\n",
      "44/44 - 0s - loss: 0.1837 - accuracy: 0.9269 - val_loss: 0.7696 - val_accuracy: 0.7316 - 151ms/epoch - 3ms/step\n",
      "Epoch 75/75\n",
      "44/44 - 0s - loss: 0.1810 - accuracy: 0.9370 - val_loss: 0.7136 - val_accuracy: 0.7489 - 148ms/epoch - 3ms/step\n"
     ]
    },
    {
     "data": {
      "text/plain": [
       "<keras.callbacks.History at 0x22c8b1f8100>"
      ]
     },
     "execution_count": 18,
     "metadata": {},
     "output_type": "execute_result"
    }
   ],
   "source": [
    "model.fit(X_train, y_train, epochs=75, batch_size=16,  verbose=2, validation_data=(X_test, y_test))"
   ]
  },
  {
   "cell_type": "code",
   "execution_count": 19,
   "id": "3d8cc9af-2854-4af7-b279-16883b255463",
   "metadata": {},
   "outputs": [
    {
     "name": "stdout",
     "output_type": "stream",
     "text": [
      "8/8 [==============================] - 0s 2ms/step - loss: 0.7136 - accuracy: 0.7489\n",
      "Accuracy: 74.89\n"
     ]
    }
   ],
   "source": [
    "_, accuracy = model.evaluate(X_test, y_test)\n",
    "print('Accuracy: %.2f' % (accuracy*100))"
   ]
  },
  {
   "cell_type": "code",
   "execution_count": 20,
   "id": "8e2af579-f2fc-468d-927a-35c9e20525c6",
   "metadata": {},
   "outputs": [
    {
     "name": "stdout",
     "output_type": "stream",
     "text": [
      "8/8 [==============================] - 0s 1ms/step\n"
     ]
    }
   ],
   "source": [
    "predict_x = model.predict(X_test)\n",
    "classes_x=np.argmax(predict_x,axis=1)"
   ]
  },
  {
   "cell_type": "code",
   "execution_count": 21,
   "id": "c7d19906-7c65-41ce-b80a-b9808bb2fd0a",
   "metadata": {},
   "outputs": [],
   "source": [
    "# from matplotlib import pyplot as plt\n",
    "# import seaborn as sns\n",
    "\n",
    "# plt.figure(figsize=(15,8))\n",
    "# sns.heatmap(df.corr())"
   ]
  },
  {
   "cell_type": "code",
   "execution_count": null,
   "id": "06011a27-bc3f-4f18-a3cc-4bfa0ad407f7",
   "metadata": {},
   "outputs": [],
   "source": []
  }
 ],
 "metadata": {
  "kernelspec": {
   "display_name": "Python 3 (ipykernel)",
   "language": "python",
   "name": "python3"
  },
  "language_info": {
   "codemirror_mode": {
    "name": "ipython",
    "version": 3
   },
   "file_extension": ".py",
   "mimetype": "text/x-python",
   "name": "python",
   "nbconvert_exporter": "python",
   "pygments_lexer": "ipython3",
   "version": "3.9.7"
  }
 },
 "nbformat": 4,
 "nbformat_minor": 5
}
